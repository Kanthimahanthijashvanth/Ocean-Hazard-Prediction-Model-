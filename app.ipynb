{
 "cells": [
  {
   "cell_type": "code",
   "execution_count": null,
   "id": "2b2eb12a-e9d8-4ccc-b557-ebcd6405c9a1",
   "metadata": {},
   "outputs": [
    {
     "name": "stdout",
     "output_type": "stream",
     "text": [
      " * Serving Flask app '__main__'\n",
      " * Debug mode: on\n"
     ]
    },
    {
     "name": "stderr",
     "output_type": "stream",
     "text": [
      "WARNING: This is a development server. Do not use it in a production deployment. Use a production WSGI server instead.\n",
      " * Running on http://127.0.0.1:5000\n",
      "Press CTRL+C to quit\n",
      "127.0.0.1 - - [10/Sep/2025 15:16:30] \"GET / HTTP/1.1\" 200 -\n",
      "127.0.0.1 - - [10/Sep/2025 15:32:05] \"GET / HTTP/1.1\" 200 -\n",
      "127.0.0.1 - - [10/Sep/2025 15:32:24] \"GET / HTTP/1.1\" 200 -\n",
      "127.0.0.1 - - [10/Sep/2025 15:32:25] \"GET /favicon.ico HTTP/1.1\" 404 -\n",
      "127.0.0.1 - - [10/Sep/2025 15:32:41] \"GET / HTTP/1.1\" 200 -\n",
      "127.0.0.1 - - [10/Sep/2025 15:32:43] \"GET /favicon.ico HTTP/1.1\" 404 -\n",
      "127.0.0.1 - - [10/Sep/2025 15:33:38] \"GET / HTTP/1.1\" 200 -\n",
      "127.0.0.1 - - [10/Sep/2025 15:33:40] \"GET /favicon.ico HTTP/1.1\" 404 -\n",
      "127.0.0.1 - - [10/Sep/2025 15:34:56] \"GET /robots.txt HTTP/1.1\" 404 -\n",
      "127.0.0.1 - - [10/Sep/2025 15:34:56] \"GET / HTTP/1.1\" 200 -\n",
      "127.0.0.1 - - [10/Sep/2025 15:37:29] \"GET / HTTP/1.1\" 200 -\n",
      "127.0.0.1 - - [10/Sep/2025 15:37:30] \"GET /favicon.ico HTTP/1.1\" 404 -\n",
      "127.0.0.1 - - [10/Sep/2025 15:37:57] \"GET / HTTP/1.1\" 200 -\n",
      "127.0.0.1 - - [10/Sep/2025 15:37:58] \"GET / HTTP/1.1\" 200 -\n",
      "127.0.0.1 - - [10/Sep/2025 15:40:02] \"GET / HTTP/1.1\" 200 -\n",
      "127.0.0.1 - - [10/Sep/2025 15:40:46] \"GET / HTTP/1.1\" 200 -\n",
      "127.0.0.1 - - [10/Sep/2025 15:44:50] \"GET / HTTP/1.1\" 200 -\n",
      "127.0.0.1 - - [10/Sep/2025 15:44:51] \"GET /favicon.ico HTTP/1.1\" 404 -\n"
     ]
    }
   ],
   "source": [
    "from flask import Flask, render_template, request\n",
    "import os\n",
    "import sqlite3\n",
    "\n",
    "app = Flask(__name__)\n",
    "app.config['UPLOAD_FOLDER'] = 'uploads/'\n",
    "os.makedirs(app.config['UPLOAD_FOLDER'], exist_ok=True)\n",
    "\n",
    "# SQLite setup\n",
    "conn = sqlite3.connect('hazards.db', check_same_thread=False)\n",
    "cursor = conn.cursor()\n",
    "cursor.execute('''\n",
    "CREATE TABLE IF NOT EXISTS submissions (\n",
    "    id INTEGER PRIMARY KEY AUTOINCREMENT,\n",
    "    text TEXT,\n",
    "    event TEXT,\n",
    "    city TEXT,\n",
    "    lang TEXT,\n",
    "    filename TEXT\n",
    ")\n",
    "''')\n",
    "conn.commit()\n",
    "\n",
    "@app.route(\"/\", methods=[\"GET\", \"POST\"])\n",
    "def index():\n",
    "    if request.method == \"POST\":\n",
    "        text_input = request.form.get(\"text\")\n",
    "        event_input = request.form.get(\"event\")\n",
    "        city_input = request.form.get(\"city\")\n",
    "        lang_input = request.form.get(\"lang\")\n",
    "        file_input = request.files.get(\"file\")\n",
    "        filename = None\n",
    "        if file_input:\n",
    "            filename = file_input.filename\n",
    "            file_input.save(os.path.join(app.config['UPLOAD_FOLDER'], filename))\n",
    "\n",
    "        cursor.execute(\"\"\"\n",
    "            INSERT INTO submissions (text, event, city, lang, filename)\n",
    "            VALUES (?, ?, ?, ?, ?)\n",
    "        \"\"\", (text_input, event_input, city_input, lang_input, filename))\n",
    "        conn.commit()\n",
    "\n",
    "    cursor.execute(\"SELECT * FROM submissions ORDER BY id DESC LIMIT 10\")\n",
    "    rows = cursor.fetchall()\n",
    "    submissions = [\n",
    "        dict(\n",
    "            id=r[0],\n",
    "            text=r[1],\n",
    "            event=r[2],\n",
    "            city=r[3],\n",
    "            lang=r[4],\n",
    "            filename=r[5]\n",
    "        )\n",
    "        for r in rows\n",
    "    ]\n",
    "\n",
    "    return render_template(\"index.html\", submissions=submissions)\n",
    "\n",
    "if __name__ == \"__main__\":\n",
    "    app.run(debug=True, use_reloader=False)\n",
    "\n"
   ]
  },
  {
   "cell_type": "code",
   "execution_count": null,
   "id": "91a924ac-a893-4436-b01d-263458afc801",
   "metadata": {},
   "outputs": [],
   "source": []
  }
 ],
 "metadata": {
  "kernelspec": {
   "display_name": "Python (tf210)",
   "language": "python",
   "name": "tf210"
  },
  "language_info": {
   "codemirror_mode": {
    "name": "ipython",
    "version": 3
   },
   "file_extension": ".py",
   "mimetype": "text/x-python",
   "name": "python",
   "nbconvert_exporter": "python",
   "pygments_lexer": "ipython3",
   "version": "3.9.23"
  }
 },
 "nbformat": 4,
 "nbformat_minor": 5
}
